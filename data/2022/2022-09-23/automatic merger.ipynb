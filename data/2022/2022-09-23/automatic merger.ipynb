{
 "cells": [
  {
   "cell_type": "code",
   "execution_count": 1,
   "id": "605400a0",
   "metadata": {},
   "outputs": [
    {
     "name": "stdout",
     "output_type": "stream",
     "text": [
      "WARNING *** file size (778851) not 512 + multiple of sector size (512)\n",
      "WARNING *** file size (1770083) not 512 + multiple of sector size (512)\n",
      "WARNING *** file size (16995) not 512 + multiple of sector size (512)\n",
      "WARNING *** file size (295523) not 512 + multiple of sector size (512)\n"
     ]
    }
   ],
   "source": [
    "import pandas as pd\n",
    "\n",
    "\n",
    "offline_classroom= pd.read_excel(\"Pending Results.xls\", skiprows= 1)\n",
    "offline_other= pd.read_excel(\"Pending Results (1).xls\", skiprows= 1)\n",
    "\n",
    "online_classroom= pd.read_excel(\"Pending Results (2).xls\", skiprows= 1)\n",
    "online_other= pd.read_excel(\"Pending Results (3).xls\", skiprows= 1)\n",
    "\n",
    "\n",
    "offline_classroom= offline_classroom.dropna(axis=1, how='all')\n",
    "offline_other= offline_other.dropna(axis=1, how='all')\n",
    "\n",
    "online_classroom= online_classroom.dropna(axis=1, how='all')\n",
    "online_other= online_other.dropna(axis=1, how='all')\n",
    "\n",
    "\n",
    "df_trainer= pd.read_excel(r\"H:\\My Drive\\2. ET Utilization\\data - coco trainer and branch data\\coco trainer data 2022-06-28.xlsx\")\n",
    "\n",
    "\n",
    "df_offline= pd.concat([offline_classroom, offline_other])\n",
    "df_offline= df_offline[[\"Teacher\", \"Class Type\", \"Date\", \"Start Time\", \"Level / Unit\"]]\n",
    "# no need to groupby since here student col is drop and we remove dup\n",
    "df_offline= df_offline.drop_duplicates()\n",
    "df_offline= df_offline.sort_values([\"Teacher\", \"Date\", \"Start Time\"])\n",
    "\n",
    "\n",
    "df_online= pd.concat([online_classroom, online_other])\n",
    "df_online= df_online[[\"Teacher\", \"Class Type\", \"Service Type\", \"Date\", \"Start Time\", \"Level / Unit\"]]\n",
    "# no need to groupby since here student col is drop and we remove dup\n",
    "df_online= df_online.drop_duplicates()\n",
    "df_online= df_online.sort_values([\"Teacher\", \"Date\", \"Start Time\"])"
   ]
  },
  {
   "cell_type": "code",
   "execution_count": 2,
   "id": "6e8ed0cc",
   "metadata": {},
   "outputs": [],
   "source": [
    "# clean teacher column\n",
    "\n",
    "df_trainer[\"Teacher\"]= df_trainer[\"Teacher\"].str.title().str.strip()\n",
    "df_offline[\"Teacher\"]= df_offline[\"Teacher\"].str.title().str.strip()\n",
    "df_online[\"Teacher\"]= df_online[\"Teacher\"].str.title().str.strip()\n",
    "\n",
    "\n",
    "# merge dfs\n",
    "\n",
    "df_offline= pd.merge(left= df_offline, right= df_trainer, left_on= \"Teacher\", right_on= \"Teacher\", how= \"left\")\n",
    "df_online= pd.merge(left= df_online, right= df_trainer, left_on= \"Teacher\", right_on= \"Teacher\", how= \"left\")\n",
    "\n",
    "df_offline[\"Branch\"]= df_offline[\"Branch\"].fillna(\"Other\")\n",
    "df_online[\"Branch\"]= df_online[\"Branch\"].fillna(\"Other\")"
   ]
  },
  {
   "cell_type": "code",
   "execution_count": 3,
   "id": "fd51c403",
   "metadata": {},
   "outputs": [],
   "source": [
    "df_all= pd.concat([df_offline, df_online])\n",
    "df_all= df_all.sort_values(\"Teacher\")\n",
    "df_all= df_all.reset_index(drop= True)"
   ]
  },
  {
   "cell_type": "code",
   "execution_count": 4,
   "id": "8851c783",
   "metadata": {},
   "outputs": [],
   "source": [
    "df_lw= df_all[df_all[\"Branch\"] == \"Living World\"]\n",
    "df_gc= df_all[df_all[\"Branch\"] == \"Gandaria City\"]\n",
    "df_sdc= df_all[df_all[\"Branch\"] == \"Sedayu City\"]\n",
    "df_pp= df_all[df_all[\"Branch\"] == \"Pacific Place\"]\n",
    "df_kk= df_all[df_all[\"Branch\"] == \"Kota Kasablanka\"]\n",
    "df_pkw= df_all[df_all[\"Branch\"] == \"Pakuwon\"]\n",
    "df_dg= df_all[df_all[\"Branch\"] == \"Dago\"]\n",
    "df_cbb= df_all[df_all[\"Branch\"] == \"Cibubur\"]\n",
    "df_ooo= df_all[(df_all[\"Branch\"] == \"Online\") | (df_all[\"Branch\"] == \"OOOLAB\")]\n",
    "df_oth= df_all[(df_all[\"Branch\"] == \"Other\") | (df_all[\"Branch\"] == \"Corporate\")]"
   ]
  },
  {
   "cell_type": "code",
   "execution_count": 5,
   "id": "42216459",
   "metadata": {},
   "outputs": [
    {
     "name": "stderr",
     "output_type": "stream",
     "text": [
      "C:\\Users\\Anjelito\\AppData\\Local\\Temp\\ipykernel_1336\\2045943717.py:4: SettingWithCopyWarning: \n",
      "A value is trying to be set on a copy of a slice from a DataFrame.\n",
      "Try using .loc[row_indexer,col_indexer] = value instead\n",
      "\n",
      "See the caveats in the documentation: https://pandas.pydata.org/pandas-docs/stable/user_guide/indexing.html#returning-a-view-versus-a-copy\n",
      "  df[\"Index\"]= df.index + 1\n",
      "C:\\Users\\Anjelito\\AppData\\Local\\Temp\\ipykernel_1336\\2045943717.py:4: SettingWithCopyWarning: \n",
      "A value is trying to be set on a copy of a slice from a DataFrame.\n",
      "Try using .loc[row_indexer,col_indexer] = value instead\n",
      "\n",
      "See the caveats in the documentation: https://pandas.pydata.org/pandas-docs/stable/user_guide/indexing.html#returning-a-view-versus-a-copy\n",
      "  df[\"Index\"]= df.index + 1\n",
      "C:\\Users\\Anjelito\\AppData\\Local\\Temp\\ipykernel_1336\\2045943717.py:4: SettingWithCopyWarning: \n",
      "A value is trying to be set on a copy of a slice from a DataFrame.\n",
      "Try using .loc[row_indexer,col_indexer] = value instead\n",
      "\n",
      "See the caveats in the documentation: https://pandas.pydata.org/pandas-docs/stable/user_guide/indexing.html#returning-a-view-versus-a-copy\n",
      "  df[\"Index\"]= df.index + 1\n",
      "C:\\Users\\Anjelito\\AppData\\Local\\Temp\\ipykernel_1336\\2045943717.py:4: SettingWithCopyWarning: \n",
      "A value is trying to be set on a copy of a slice from a DataFrame.\n",
      "Try using .loc[row_indexer,col_indexer] = value instead\n",
      "\n",
      "See the caveats in the documentation: https://pandas.pydata.org/pandas-docs/stable/user_guide/indexing.html#returning-a-view-versus-a-copy\n",
      "  df[\"Index\"]= df.index + 1\n",
      "C:\\Users\\Anjelito\\AppData\\Local\\Temp\\ipykernel_1336\\2045943717.py:4: SettingWithCopyWarning: \n",
      "A value is trying to be set on a copy of a slice from a DataFrame.\n",
      "Try using .loc[row_indexer,col_indexer] = value instead\n",
      "\n",
      "See the caveats in the documentation: https://pandas.pydata.org/pandas-docs/stable/user_guide/indexing.html#returning-a-view-versus-a-copy\n",
      "  df[\"Index\"]= df.index + 1\n",
      "C:\\Users\\Anjelito\\AppData\\Local\\Temp\\ipykernel_1336\\2045943717.py:4: SettingWithCopyWarning: \n",
      "A value is trying to be set on a copy of a slice from a DataFrame.\n",
      "Try using .loc[row_indexer,col_indexer] = value instead\n",
      "\n",
      "See the caveats in the documentation: https://pandas.pydata.org/pandas-docs/stable/user_guide/indexing.html#returning-a-view-versus-a-copy\n",
      "  df[\"Index\"]= df.index + 1\n",
      "C:\\Users\\Anjelito\\AppData\\Local\\Temp\\ipykernel_1336\\2045943717.py:4: SettingWithCopyWarning: \n",
      "A value is trying to be set on a copy of a slice from a DataFrame.\n",
      "Try using .loc[row_indexer,col_indexer] = value instead\n",
      "\n",
      "See the caveats in the documentation: https://pandas.pydata.org/pandas-docs/stable/user_guide/indexing.html#returning-a-view-versus-a-copy\n",
      "  df[\"Index\"]= df.index + 1\n",
      "C:\\Users\\Anjelito\\AppData\\Local\\Temp\\ipykernel_1336\\2045943717.py:4: SettingWithCopyWarning: \n",
      "A value is trying to be set on a copy of a slice from a DataFrame.\n",
      "Try using .loc[row_indexer,col_indexer] = value instead\n",
      "\n",
      "See the caveats in the documentation: https://pandas.pydata.org/pandas-docs/stable/user_guide/indexing.html#returning-a-view-versus-a-copy\n",
      "  df[\"Index\"]= df.index + 1\n",
      "C:\\Users\\Anjelito\\AppData\\Local\\Temp\\ipykernel_1336\\2045943717.py:4: SettingWithCopyWarning: \n",
      "A value is trying to be set on a copy of a slice from a DataFrame.\n",
      "Try using .loc[row_indexer,col_indexer] = value instead\n",
      "\n",
      "See the caveats in the documentation: https://pandas.pydata.org/pandas-docs/stable/user_guide/indexing.html#returning-a-view-versus-a-copy\n",
      "  df[\"Index\"]= df.index + 1\n",
      "C:\\Users\\Anjelito\\AppData\\Local\\Temp\\ipykernel_1336\\2045943717.py:4: SettingWithCopyWarning: \n",
      "A value is trying to be set on a copy of a slice from a DataFrame.\n",
      "Try using .loc[row_indexer,col_indexer] = value instead\n",
      "\n",
      "See the caveats in the documentation: https://pandas.pydata.org/pandas-docs/stable/user_guide/indexing.html#returning-a-view-versus-a-copy\n",
      "  df[\"Index\"]= df.index + 1\n"
     ]
    }
   ],
   "source": [
    "df_list= [df_all, df_lw, df_gc, df_sdc, df_pp, df_kk, df_pkw, df_dg, df_cbb, df_ooo, df_oth]\n",
    "\n",
    "for df in df_list:\n",
    "    df[\"Index\"]= df.index + 1"
   ]
  },
  {
   "cell_type": "code",
   "execution_count": 6,
   "id": "b41f66f0",
   "metadata": {},
   "outputs": [
    {
     "name": "stderr",
     "output_type": "stream",
     "text": [
      "c:\\Users\\Anjelito\\miniconda3\\envs\\data_science\\lib\\site-packages\\xlsxwriter\\workbook.py:339: UserWarning: Calling close() on already closed file.\n",
      "  warn(\"Calling close() on already closed file.\")\n"
     ]
    }
   ],
   "source": [
    "# Write each dataframe to a different worksheet.\n",
    "\n",
    "writer = pd.ExcelWriter('output.xlsx', engine='xlsxwriter')\n",
    "\n",
    "df_all.to_excel(writer, sheet_name='All Center', index= False)\n",
    "\n",
    "df_lw.to_excel(writer, sheet_name='LW', index= False)\n",
    "df_gc.to_excel(writer, sheet_name='GC', index= False)\n",
    "df_sdc.to_excel(writer, sheet_name='SDC', index= False)\n",
    "df_pp.to_excel(writer, sheet_name='PP', index= False)\n",
    "df_kk.to_excel(writer, sheet_name='KK', index= False)\n",
    "df_pkw.to_excel(writer, sheet_name='PKW', index= False)\n",
    "df_dg.to_excel(writer, sheet_name='DG', index= False)\n",
    "df_cbb.to_excel(writer, sheet_name='CBB', index= False)\n",
    "df_ooo.to_excel(writer, sheet_name='Online', index= False)\n",
    "df_oth.to_excel(writer, sheet_name='Other', index= False)\n",
    "\n",
    "df_branch= pd.DataFrame(df_all.groupby(\"Branch\").size()).reset_index()\n",
    "df_branch.columns= [\"Branch\", \"Count Session with Pending Res.\"]\n",
    "df_branch.to_excel(writer, sheet_name='Summary', index= False)\n",
    "\n",
    "writer.save()\n",
    "writer.close()"
   ]
  }
 ],
 "metadata": {
  "hide_input": false,
  "kernelspec": {
   "display_name": "Python 3.10.5 ('data_science')",
   "language": "python",
   "name": "python3"
  },
  "language_info": {
   "codemirror_mode": {
    "name": "ipython",
    "version": 3
   },
   "file_extension": ".py",
   "mimetype": "text/x-python",
   "name": "python",
   "nbconvert_exporter": "python",
   "pygments_lexer": "ipython3",
   "version": "3.10.5"
  },
  "toc": {
   "base_numbering": 1,
   "nav_menu": {},
   "number_sections": true,
   "sideBar": true,
   "skip_h1_title": false,
   "title_cell": "Table of Contents",
   "title_sidebar": "Contents",
   "toc_cell": false,
   "toc_position": {},
   "toc_section_display": true,
   "toc_window_display": false
  },
  "varInspector": {
   "cols": {
    "lenName": 16,
    "lenType": 16,
    "lenVar": 40
   },
   "kernels_config": {
    "python": {
     "delete_cmd_postfix": "",
     "delete_cmd_prefix": "del ",
     "library": "var_list.py",
     "varRefreshCmd": "print(var_dic_list())"
    },
    "r": {
     "delete_cmd_postfix": ") ",
     "delete_cmd_prefix": "rm(",
     "library": "var_list.r",
     "varRefreshCmd": "cat(var_dic_list()) "
    }
   },
   "types_to_exclude": [
    "module",
    "function",
    "builtin_function_or_method",
    "instance",
    "_Feature"
   ],
   "window_display": false
  },
  "vscode": {
   "interpreter": {
    "hash": "cba1cf6b6a91b07f59ddad3bc3f4e4dfb645e0267885cfdd014ce708c6700d99"
   }
  }
 },
 "nbformat": 4,
 "nbformat_minor": 5
}
